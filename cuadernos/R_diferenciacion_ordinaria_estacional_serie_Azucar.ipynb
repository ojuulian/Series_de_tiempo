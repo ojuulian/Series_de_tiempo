{
 "cells": [
  {
   "cell_type": "markdown",
   "metadata": {},
   "source": [
    "## Industria azucarera con diferenciacion ordinaria y estacional\n",
    "\n",
    "##### Oscar Julian Layton\n",
    "\n",
    "La información relativa a la producción de algunos bienes del sector industrial en Colombia desde el año 1995 hasta la fecha, los datos son proporcionados por el banco de la república en mediciones mensuales a través de la variable de producción real a nivel nacional, incluyendo algunos bienes como Azucar, cemento gris, Lingotes de acero y producción de carbón. Para hacer un análisis de serie de tiempo, se usa la serie perteneciente al **sector azucarero en Colombia** el cual es medido en toneladas por mes.\n",
    "\n",
    "Con el objetivo de destablecer una secuencia de pasos para el analisis de la serie de tiempo, Se hace necesario el uso de **R** como herramienta computacional, en un primer paso se necesitaran de las siguientes librerias las cuales ayudaran para cargar los datos. "
   ]
  },
  {
   "cell_type": "code",
   "execution_count": 13,
   "metadata": {},
   "outputs": [],
   "source": [
    "library(readr)\n",
    "library(readxl)\n",
    "industriacol <- read_excel(\"C:\\\\Users\\\\YULY\\\\Desktop\\\\Desktop\\\\UNAL 2018\\\\series de tiempo\\\\codigos\\\\industriadsd1995.xls\")"
   ]
  },
  {
   "cell_type": "markdown",
   "metadata": {},
   "source": [
    "Teniendo en cuenta que la información de la producción azucarera se identifica que hace parte de mediciones mensuales desde febrero de 1995 hasta el 16 de marzo de 2016, de esta forma se procede a conviertir la informacion en un objeto de series de tiempo con la por medio de la funcion ts de R, indicando el periodo de inicio y la frecuencia de las mediciones los cuales son (1995,2) febrero de 1995 con una frecuencia de 12. A continuación se presentan los primeros 24 observaciones."
   ]
  },
  {
   "cell_type": "code",
   "execution_count": 3,
   "metadata": {},
   "outputs": [
    {
     "data": {
      "text/html": [
       "<ol class=list-inline>\n",
       "\t<li>186151</li>\n",
       "\t<li>188408</li>\n",
       "\t<li>123473</li>\n",
       "\t<li>170266</li>\n",
       "\t<li>168927</li>\n",
       "\t<li>182420</li>\n",
       "\t<li>199119</li>\n",
       "\t<li>189389</li>\n",
       "\t<li>163727</li>\n",
       "\t<li>158211</li>\n",
       "\t<li>147899</li>\n",
       "\t<li>166172</li>\n",
       "\t<li>168295</li>\n",
       "\t<li>174564</li>\n",
       "\t<li>112499</li>\n",
       "\t<li>172187</li>\n",
       "\t<li>165433</li>\n",
       "\t<li>199514</li>\n",
       "\t<li>227164</li>\n",
       "\t<li>216748</li>\n",
       "\t<li>204366</li>\n",
       "\t<li>190076</li>\n",
       "\t<li>152205</li>\n",
       "\t<li>130083</li>\n",
       "</ol>\n"
      ],
      "text/latex": [
       "\\begin{enumerate*}\n",
       "\\item 186151\n",
       "\\item 188408\n",
       "\\item 123473\n",
       "\\item 170266\n",
       "\\item 168927\n",
       "\\item 182420\n",
       "\\item 199119\n",
       "\\item 189389\n",
       "\\item 163727\n",
       "\\item 158211\n",
       "\\item 147899\n",
       "\\item 166172\n",
       "\\item 168295\n",
       "\\item 174564\n",
       "\\item 112499\n",
       "\\item 172187\n",
       "\\item 165433\n",
       "\\item 199514\n",
       "\\item 227164\n",
       "\\item 216748\n",
       "\\item 204366\n",
       "\\item 190076\n",
       "\\item 152205\n",
       "\\item 130083\n",
       "\\end{enumerate*}\n"
      ],
      "text/markdown": [
       "1. 186151\n",
       "2. 188408\n",
       "3. 123473\n",
       "4. 170266\n",
       "5. 168927\n",
       "6. 182420\n",
       "7. 199119\n",
       "8. 189389\n",
       "9. 163727\n",
       "10. 158211\n",
       "11. 147899\n",
       "12. 166172\n",
       "13. 168295\n",
       "14. 174564\n",
       "15. 112499\n",
       "16. 172187\n",
       "17. 165433\n",
       "18. 199514\n",
       "19. 227164\n",
       "20. 216748\n",
       "21. 204366\n",
       "22. 190076\n",
       "23. 152205\n",
       "24. 130083\n",
       "\n",
       "\n"
      ],
      "text/plain": [
       " [1] 186151 188408 123473 170266 168927 182420 199119 189389 163727 158211\n",
       "[11] 147899 166172 168295 174564 112499 172187 165433 199514 227164 216748\n",
       "[21] 204366 190076 152205 130083"
      ]
     },
     "metadata": {},
     "output_type": "display_data"
    }
   ],
   "source": [
    "azucar=ts(industriacol['Azucar'],start=c(1995,2),frequency=12) #frec:periodicidad, comienza en 1949\n",
    "head(azucar,24)"
   ]
  },
  {
   "cell_type": "markdown",
   "metadata": {},
   "source": [
    "No obstante, se procede a realizar las serie de tiempo, según las especificaiones anteriores:"
   ]
  },
  {
   "cell_type": "code",
   "execution_count": 4,
   "metadata": {},
   "outputs": [
    {
     "data": {
      "image/png": "[encoded data removed]",
      "text/plain": [
       "Plot with title \"SERIE DE TIEMPO DE LA PRODUCCIÓN AZUCARERA EN COLOMBIA\""
      ]
     },
     "metadata": {},
     "output_type": "display_data"
    }
   ],
   "source": [
    "plot(azucar, main=\"SERIE DE TIEMPO DE LA PRODUCCIÓN AZUCARERA EN COLOMBIA\", xlab=\"Fecha\")"
   ]
  },
  {
   "cell_type": "markdown",
   "metadata": {},
   "source": [
    "## Descomposicion basada en diferenciación\n",
    "\n",
    "Para el proceso estocastico deterimnado por la producción de azucar $\\{  X_t \\}$ no estacionario, existen diversas estrategias para convertirlo en un proceso $\\{  Y_t \\}$ estacionario, se propone desarrollar el metodo de descomposicion basado en diferenciacion el cual consiste en transformar los datos $\\{  X_t \\}$ eliminando las componentes $M_t$ y $S _t$, aqui llamaremos a $M_t$ el componente de tendencia, a $S_t$ la componente estacional, la filosofia consiste en transformar los datos de tal manera que se eliminen los componentes  y de esta manera convertir al proceso $\\{  X_t \\}$ que es no estacionario  en $Y_t$ el cual es estacionario.\n",
    "\n",
    "### Desarrollo\n",
    "\n",
    "En referencia a la serie de tiempo, a primera vista se logra observar que a traves del tiempo la varianza alcanza a aumentar un poco, dado lo anterior se ve la necesidad de buscar metodologias para identificar si existe la no estabilidad en la varianza, en este orden de ideas si fuese necesario se usara la transformacion **Box-Cox** el cual transforma los datos de la serie segun un lambda especifico el cual logre homogeneizar la varianza, dicha transformacion tiene la forma:\n",
    "\n",
    "\n",
    "$$\n",
    "f_x(U_t)=\\left\\{\\begin{matrix}\n",
    " \\lambda^-1 (U^{\\lambda}_t - 1) & U_t\\geq 0 & \\lambda>0\\\\ \n",
    "Ln (U_t) & U_t >0 & \\lambda=0\n",
    "\\end{matrix}\\right.\n",
    "$$"
   ]
  },
  {
   "cell_type": "markdown",
   "metadata": {},
   "source": [
    "\n",
    "Este procedimiento puede ser usado rapidamente en R, sin embargo el determinar si dicha transformacion debe ser usada se identifica el $\\lambda$ por medio del siguiente codigo:"
   ]
  },
  {
   "cell_type": "code",
   "execution_count": 3,
   "metadata": {},
   "outputs": [
    {
     "data": {
      "text/html": [
       "1.99995900720725"
      ],
      "text/latex": [
       "1.99995900720725"
      ],
      "text/markdown": [
       "1.99995900720725"
      ],
      "text/plain": [
       "[1] 1.999959"
      ]
     },
     "metadata": {},
     "output_type": "display_data"
    }
   ],
   "source": [
    "library(forecast)\n",
    "forecast::BoxCox.lambda(azucar, method = \"guerrero\", lower = 0, upper = 2)   "
   ]
  },
  {
   "cell_type": "markdown",
   "metadata": {},
   "source": [
    "Por consiguiente el valor de lambda es cercano a 1,  en este orden de ideas lo mas aconsejable es no realizar una transformacion a los datos, en otras palabras no es necesario estabilizar la varianza:\n",
    "\n",
    "\n",
    "## Descomposicion basada en diferenciación\n",
    "\n",
    "Como segundo paso, se realiza propiamente el proceso basado en diferenciación"
   ]
  },
  {
   "cell_type": "code",
   "execution_count": 4,
   "metadata": {},
   "outputs": [
    {
     "data": {
      "image/png": "[encoded data removed]",
      "text/plain": [
       "plot without title"
      ]
     },
     "metadata": {},
     "output_type": "display_data"
    }
   ],
   "source": [
    "SerieA=diff(azucar,lag=1,)###Diferencia Ordinaria\n",
    "plot(SerieA)"
   ]
  },
  {
   "cell_type": "markdown",
   "metadata": {},
   "source": [
    "En la grafica anterior puede observarse el resumen del proceso de descomposicion realizado absado en diferenciación ordinaria, elcual intenta eliminar la componente de tendencia $M_t$. Observese la funcion de autocorrelacion simple dada la descomposición ordinaria."
   ]
  },
  {
   "cell_type": "code",
   "execution_count": 5,
   "metadata": {},
   "outputs": [
    {
     "data": {
      "image/png": "[encoded data removed]",
      "text/plain": [
       "Plot with title \"Función de autocorrelación dada la descomposición ordinaria\""
      ]
     },
     "metadata": {},
     "output_type": "display_data"
    }
   ],
   "source": [
    "acf(SerieA,ci.type=\"ma\",lag.max=48,main=\"Función de autocorrelación dada la descomposición ordinaria\")"
   ]
  },
  {
   "cell_type": "markdown",
   "metadata": {},
   "source": [
    "Considerando al anterior acf se puede observar que todavía existe una estacionariedad en la serie, con lo cual se opta por generar la diferenciación estacional considerando 12 periodos anteriores (12 es el periodo de la compponente estacional):"
   ]
  },
  {
   "cell_type": "code",
   "execution_count": 6,
   "metadata": {},
   "outputs": [
    {
     "data": {
      "image/png": "[encoded data removed]",
      "text/plain": [
       "plot without title"
      ]
     },
     "metadata": {},
     "output_type": "display_data"
    }
   ],
   "source": [
    "SerieB=diff(SerieA,lag=12) #####Diferencia Estacional\n",
    "plot(SerieB)"
   ]
  },
  {
   "cell_type": "markdown",
   "metadata": {},
   "source": [
    "La anterior gráfica muestra la serie estacionaria resulatnte $y_t$ a la cual se le ha realizado el proceso de descomposición basado en diferenciación ordinaria y estacional. A continuación se presenta la funcion de autocorrelacion simple para el proceso resultante:"
   ]
  },
  {
   "cell_type": "code",
   "execution_count": 7,
   "metadata": {},
   "outputs": [
    {
     "data": {
      "image/png": "[encoded data removed]",
      "text/plain": [
       "Plot with title \"Función de autocorrelación dada desps de descomposición estacional\""
      ]
     },
     "metadata": {},
     "output_type": "display_data"
    }
   ],
   "source": [
    "acf(SerieB,ci.type=\"ma\",lag.max=48,main=\"Función de autocorrelación dada desps de descomposición estacional\")"
   ]
  },
  {
   "cell_type": "markdown",
   "metadata": {},
   "source": [
    "En la grafica de la función de autocorrelación simple puede observarse que solamente para el rezago 12 la correlacion se sale de las bandas de confianza lo que indica que es significativa para el proceso, es decir no es cero. Finalmente el proceso realizado para volver una serie de tiempo a una estacionaria es buena, el modelo para la serie estaría determinado por un modelo estacional ARMA(p,q)\n",
    "\n",
    "\n",
    "## Análisis de la serie resultante estacionaria\n",
    "\n",
    "Dado el proceso de descomposición basado en diferenciación generado anteriormente, el modelo resultante al ser estacionario puede ser estimado por medio de un ARMA(p,q). Por consiguiente se procede a graficar las funciones de autocorrelación simple y parcial"
   ]
  },
  {
   "cell_type": "code",
   "execution_count": 9,
   "metadata": {},
   "outputs": [],
   "source": [
    "library(forecast)\n",
    "library(lmtest) "
   ]
  },
  {
   "cell_type": "markdown",
   "metadata": {},
   "source": [
    "\n",
    "Al observar la acf y pacf se observa que los datos tienen componente autorregresiva y promedios móviles mixta, puesto que ninfuna de las dos: funcion de autocorrelaci´pon simple y funcion de autocorrelacion parcial no se van rápidamente para cero (rezagos altos de ellas son significativos). Con respecto a la función de autocorrelación simple, presentadda en la grafica anterior se logra observar que los rezagos 1,2,10,12 salen de las bandas movibles esto significa que son significativamente diferentes de cero, no obstante el rezago 12 es el último lo cual implica que el proceso que generó los datos puede ser modelado por medio de un MA(12). Observemos la gráfica de la función de autocorrelación parcial."
   ]
  },
  {
   "cell_type": "code",
   "execution_count": 10,
   "metadata": {},
   "outputs": [
    {
     "data": {
      "image/png": "[encoded data removed]",
      "text/plain": [
       "Plot with title \"FAC parcial de producción azucarera\""
      ]
     },
     "metadata": {},
     "output_type": "display_data"
    }
   ],
   "source": [
    "pacf(SerieB,main=\"FAC parcial de producción azucarera\") "
   ]
  },
  {
   "cell_type": "markdown",
   "metadata": {},
   "source": [
    "En la anterior gráfica se observa que las autocorrelaciones parciales de rezago mayores a 15 son no significativas y las anteriores significativas esto indica que los datos posiblemente provienen de un proceso AR(15). Todo esto para poner en marcha un análisis por medio de criterios de información y seleccionar un modelo que se ajuste a la serie minimizando dicho criterio, en este caso se hará referencia al **BIC**.\n",
    "\n",
    "Teniendo en cuenta que los máximos valores posibles de p y q están dados por $p=15$ y $q=12$"
   ]
  },
  {
   "cell_type": "code",
   "execution_count": 11,
   "metadata": {},
   "outputs": [
    {
     "data": {
      "text/plain": [
       "\n",
       "Call:\n",
       "arima(x = SerieB, order = c(15, 0, 0))\n",
       "\n",
       "Coefficients:\n",
       "          ar1      ar2      ar3      ar4      ar5      ar6      ar7      ar8\n",
       "      -0.3738  -0.3388  -0.2294  -0.1011  -0.0931  -0.2017  -0.1686  -0.1801\n",
       "s.e.   0.0629   0.0650   0.0676   0.0635   0.0636   0.0644   0.0652   0.0646\n",
       "          ar9    ar10     ar11     ar12     ar13     ar14     ar15  intercept\n",
       "      -0.1202  0.0217  -0.0524  -0.4049  -0.1749  -0.2578  -0.2101   -40.7177\n",
       "s.e.   0.0646  0.0637   0.0636   0.0630   0.0676   0.0651   0.0640   401.4516\n",
       "\n",
       "sigma^2 estimated as 558830492:  log likelihood = -2770.61,  aic = 5575.23"
      ]
     },
     "metadata": {},
     "output_type": "display_data"
    },
    {
     "data": {
      "text/plain": [
       "\n",
       "Call:\n",
       "arima(x = SerieB, order = c(0, 0, 12))\n",
       "\n",
       "Coefficients:\n",
       "          ma1      ma2      ma3     ma4     ma5     ma6      ma7      ma8\n",
       "      -0.1732  -0.0873  -0.0426  0.0403  0.0844  0.1450  -0.1261  -0.1050\n",
       "s.e.   0.0602   0.0664   0.0463  0.0637  0.0619  0.0683   0.0578   0.0652\n",
       "          ma9    ma10    ma11     ma12  intercept\n",
       "      -0.0537  0.0964  0.0017  -0.7798   -34.1405\n",
       "s.e.   0.0460  0.0577  0.0665   0.0638   182.9598\n",
       "\n",
       "sigma^2 estimated as 4.87e+08:  log likelihood = -2762.25,  aic = 5552.51"
      ]
     },
     "metadata": {},
     "output_type": "display_data"
    }
   ],
   "source": [
    "salidaAR15=arima(SerieB,order=c(15,0,0))\n",
    "salidaMA12=arima(SerieB,order=c(0,0,12))\n",
    "salidaAR15\n",
    "salidaMA12 "
   ]
  },
  {
   "cell_type": "code",
   "execution_count": 12,
   "metadata": {},
   "outputs": [
    {
     "data": {
      "text/plain": [
       "\n",
       "z test of coefficients:\n",
       "\n",
       "      Estimate Std. Error z value  Pr(>|z|)    \n",
       "ar1  -0.213084   0.057589 -3.7001 0.0002155 ***\n",
       "ar12 -0.362523   0.057100 -6.3489 2.168e-10 ***\n",
       "---\n",
       "Signif. codes:  0 '***' 0.001 '**' 0.01 '*' 0.05 '.' 0.1 ' ' 1\n"
      ]
     },
     "metadata": {},
     "output_type": "display_data"
    },
    {
     "data": {
      "text/plain": [
       "Series: SerieB \n",
       "ARIMA(12,0,0) with zero mean \n",
       "\n",
       "Coefficients:\n",
       "          ar1  ar2  ar3  ar4  ar5  ar6  ar7  ar8  ar9  ar10  ar11     ar12\n",
       "      -0.2131    0    0    0    0    0    0    0    0     0     0  -0.3625\n",
       "s.e.   0.0576    0    0    0    0    0    0    0    0     0     0   0.0571\n",
       "\n",
       "sigma^2 estimated as 679414005:  log likelihood=-2792.46\n",
       "AIC=5590.92   AICc=5591.02   BIC=5601.38"
      ]
     },
     "metadata": {},
     "output_type": "display_data"
    }
   ],
   "source": [
    "salidaAR15fixed=Arima(SerieB,order=c(12,0,0),include.mean = FALSE,fixed=c(NA,0,0,0,0,0,0,0,0,0,0,NA),method = c(\"CSS-ML\"))\n",
    "coeftest(salidaAR15fixed)\n",
    "salidaAR15fixed\n",
    "#attributes(salidaAR15fixed)"
   ]
  },
  {
   "cell_type": "markdown",
   "metadata": {},
   "source": [
    "\n",
    "## Referencias\n",
    "\n",
    "BANREP. _Producción de algunos bienes de la industria (Mensual desde 1995)_, disponible en http://www.banrep.gov.co/es/produccion"
   ]
  },
  {
   "cell_type": "code",
   "execution_count": null,
   "metadata": {},
   "outputs": [],
   "source": []
  }
 ],
 "metadata": {
  "kernelspec": {
   "display_name": "R",
   "language": "R",
   "name": "ir"
  },
  "language_info": {
   "codemirror_mode": "r",
   "file_extension": ".r",
   "mimetype": "text/x-r-source",
   "name": "R",
   "pygments_lexer": "r",
   "version": "3.6.1"
  }
 },
 "nbformat": 4,
 "nbformat_minor": 4
}
