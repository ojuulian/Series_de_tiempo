{
 "cells": [
  {
   "cell_type": "markdown",
   "metadata": {},
   "source": [
    "## PRODUCCIÓN DE AZUCAR EN COLOMBIA EN 1995-2016\n",
    "##### Oscar Julian Layton\n",
    "\n",
    "\n",
    "La información relativa a la producción de algunos bienes del sector industrial en Colombia desde el año 1995 hasta la fecha, los datos son proporcionados por el banco de la república en mediciones mensuales a través de la variable de producción real a nivel nacional, incluyendo algunos bienes como Azucar, cemento gris, Lingotes de acero y producción de carbón. Para hacer un análisis de serie de tiempo, se usa la serie perteneciente a la **producción de azucar en Colombia** el cual es medido en toneladas por mes.\n",
    "\n",
    "Con el objetivo de destablecer una secuencia de pasos para el analisis de la serie de tiempo, Se hace necesario el uso de **R** como herramienta computacional."
   ]
  },
  {
   "cell_type": "code",
   "execution_count": 1,
   "metadata": {},
   "outputs": [],
   "source": [
    "library(readr)\n",
    "library(readxl)\n",
    "industriacol <- read_excel(\"C:\\\\Users\\\\YULY\\\\Desktop\\\\Desktop\\\\UNAL 2018\\\\series de tiempo\\\\codigos\\\\industriadsd1995.xls\")"
   ]
  },
  {
   "cell_type": "markdown",
   "metadata": {},
   "source": [
    "\n",
    "Teniendo en cuenta que la información de la producción azucarera se identifica que hace parte de mediciones mensuales desde febrero de 1995 hasta el 16 de marzo de 2016, de esta forma se procede a conviertir la informacion en un objeto de series de tiempo con la por medio de la funcion ts de R, indicando el periodo de inicio y la frecuencia de las mediciones los cuales son (1995,2) febrero de 1995 con una frecuencia de 12. A continuación se presentan los primeros 24 observaciones."
   ]
  },
  {
   "cell_type": "code",
   "execution_count": 2,
   "metadata": {},
   "outputs": [
    {
     "data": {
      "text/html": [
       "<ol class=list-inline>\n",
       "\t<li>186151</li>\n",
       "\t<li>188408</li>\n",
       "\t<li>123473</li>\n",
       "\t<li>170266</li>\n",
       "\t<li>168927</li>\n",
       "\t<li>182420</li>\n",
       "\t<li>199119</li>\n",
       "\t<li>189389</li>\n",
       "\t<li>163727</li>\n",
       "\t<li>158211</li>\n",
       "\t<li>147899</li>\n",
       "\t<li>166172</li>\n",
       "\t<li>168295</li>\n",
       "\t<li>174564</li>\n",
       "\t<li>112499</li>\n",
       "\t<li>172187</li>\n",
       "\t<li>165433</li>\n",
       "\t<li>199514</li>\n",
       "\t<li>227164</li>\n",
       "\t<li>216748</li>\n",
       "\t<li>204366</li>\n",
       "\t<li>190076</li>\n",
       "\t<li>152205</li>\n",
       "\t<li>130083</li>\n",
       "</ol>\n"
      ],
      "text/latex": [
       "\\begin{enumerate*}\n",
       "\\item 186151\n",
       "\\item 188408\n",
       "\\item 123473\n",
       "\\item 170266\n",
       "\\item 168927\n",
       "\\item 182420\n",
       "\\item 199119\n",
       "\\item 189389\n",
       "\\item 163727\n",
       "\\item 158211\n",
       "\\item 147899\n",
       "\\item 166172\n",
       "\\item 168295\n",
       "\\item 174564\n",
       "\\item 112499\n",
       "\\item 172187\n",
       "\\item 165433\n",
       "\\item 199514\n",
       "\\item 227164\n",
       "\\item 216748\n",
       "\\item 204366\n",
       "\\item 190076\n",
       "\\item 152205\n",
       "\\item 130083\n",
       "\\end{enumerate*}\n"
      ],
      "text/markdown": [
       "1. 186151\n",
       "2. 188408\n",
       "3. 123473\n",
       "4. 170266\n",
       "5. 168927\n",
       "6. 182420\n",
       "7. 199119\n",
       "8. 189389\n",
       "9. 163727\n",
       "10. 158211\n",
       "11. 147899\n",
       "12. 166172\n",
       "13. 168295\n",
       "14. 174564\n",
       "15. 112499\n",
       "16. 172187\n",
       "17. 165433\n",
       "18. 199514\n",
       "19. 227164\n",
       "20. 216748\n",
       "21. 204366\n",
       "22. 190076\n",
       "23. 152205\n",
       "24. 130083\n",
       "\n",
       "\n"
      ],
      "text/plain": [
       " [1] 186151 188408 123473 170266 168927 182420 199119 189389 163727 158211\n",
       "[11] 147899 166172 168295 174564 112499 172187 165433 199514 227164 216748\n",
       "[21] 204366 190076 152205 130083"
      ]
     },
     "metadata": {},
     "output_type": "display_data"
    }
   ],
   "source": [
    "azucar=ts(industriacol['Azucar'],start=c(1995,2),frequency=12) #frec:periodicidad, comienza en 1949\n",
    "head(azucar,24)"
   ]
  },
  {
   "cell_type": "markdown",
   "metadata": {},
   "source": [
    "No obstante, se procede a realizar las serie de tiempo, según las especificaiones anteriores:"
   ]
  },
  {
   "cell_type": "code",
   "execution_count": 3,
   "metadata": {},
   "outputs": [
    {
     "data": {
      "image/png": "[encoded data removed]",
      "text/plain": [
       "Plot with title \"SERIE DE TIEMPO DE LA PRODUCCIÓN AZUCARERA EN COLOMBIA\""
      ]
     },
     "metadata": {},
     "output_type": "display_data"
    }
   ],
   "source": [
    "plot(azucar, main=\"SERIE DE TIEMPO DE LA PRODUCCIÓN AZUCARERA EN COLOMBIA\", xlab=\"Fecha\")"
   ]
  },
  {
   "cell_type": "markdown",
   "metadata": {},
   "source": [
    "El primer análisis que puede desarrollarse en la serie es netamente descriptivo, en este orden de ideas se puede obsrvar que la serie no tiene ningún patrón, la serie no tiene una media constante al transcurrir los años \"la media no es la misma a lo largo del tiempo\", asi  mismo se logra observar una tendencia en los primeros años la cual decrece aproximadamente en los últimos años."
   ]
  },
  {
   "cell_type": "markdown",
   "metadata": {},
   "source": [
    "## Descomposición basada promedios moviles\n",
    "\n",
    "Para el proceso estocástico $\\{  X_t \\}$ no estacionario, existen diversas estrategias para convertirlo en un proceso $\\{  Y_t \\}$ estacionario, se propone desarrollar el metodo de descomposicion basado en filtros el cual consiste en estimar los componentes de $\\{  X_t \\}$ de la siguiente forma:\n",
    "\n",
    "$$X_t = M_t + S _t + Y_t$$\n",
    "\n",
    "\n",
    "Donde llamaremos a $M_t$ el componente de tendencia, a $S_t$ la componente estacional, la filosofia consiste en estimar estas componentes y luego restarlas al proceso no estacionario para convertirlo en $Y_t$ el cual es estacionario.\n",
    "\n",
    "## Desarrollo\n",
    "\n",
    "En referencia a la serie de tiempo, a primera vista se logra observar que a traves del tiempo la varianza alcanza a aumentar un poco, dado lo anterior se ve la necesidad de buscar metodologias para identificar si existe la no estabilidad en la varianza, en este orden de ideas si fuese necesario se usara la transformacion **Box-Cox** el cual transforma los datos de la serie segun un lambda especifico el cual logre homogeneizar la varianza, dicha transformacion tiene la forma:\n",
    "\n",
    "$$\n",
    "f_x(U_t)=\\left\\{\\begin{matrix}\n",
    " \\lambda^-1 (U^{\\lambda}_t - 1) & U_t\\geq 0 & \\lambda>0\\\\ \n",
    "Ln (U_t) & U_t >0 & \\lambda=0\n",
    "\\end{matrix}\\right.\n",
    "$$\n",
    "\n",
    "Este procedimiento puede ser usaro rapidamente en R por medio del siguiente codigo:\n"
   ]
  },
  {
   "cell_type": "code",
   "execution_count": 5,
   "metadata": {},
   "outputs": [
    {
     "data": {
      "text/html": [
       "1.99995900720725"
      ],
      "text/latex": [
       "1.99995900720725"
      ],
      "text/markdown": [
       "1.99995900720725"
      ],
      "text/plain": [
       "[1] 1.999959"
      ]
     },
     "metadata": {},
     "output_type": "display_data"
    }
   ],
   "source": [
    "library(forecast)\n",
    "forecast::BoxCox.lambda(azucar, method = \"guerrero\", lower = 0, upper = 2)  "
   ]
  },
  {
   "cell_type": "markdown",
   "metadata": {},
   "source": [
    "Por consiguiente el valor de lambda es cercano a 1,  en este orden de ideas lo mas aconsejable es no realizar una transformacion a los datos, en otras palabras no es necesario estabilizar la varianza:\n",
    "\n",
    "Como segundo paso, se realiza propiamente el proceso basado en promedios moviles "
   ]
  },
  {
   "cell_type": "code",
   "execution_count": 6,
   "metadata": {},
   "outputs": [
    {
     "data": {
      "image/png": "[encoded data removed]",
      "text/plain": [
       "plot without title"
      ]
     },
     "metadata": {},
     "output_type": "display_data"
    }
   ],
   "source": [
    "deslAirPass=decompose(azucar)\n",
    "plot(deslAirPass)"
   ]
  },
  {
   "cell_type": "markdown",
   "metadata": {},
   "source": [
    "\n",
    "En la grafica anterior puede observarse el resumen del proceso de descomposicion realizado, mostrandose en la primera grafica la serie original sin transformación BoxCox, en la segunda grafica puede observar la componente de tendencia de la serie, en la tercera serie se identifica la componente estacional y en la última serie se puede observar la serie resultante  $Y_t$  obtenida despues de quitar la componente de tendencia y de estacionariedad, dicha serie resultante $Y_t$ es estacional vease la siguiente serie de tiempo:"
   ]
  },
  {
   "cell_type": "code",
   "execution_count": 7,
   "metadata": {},
   "outputs": [
    {
     "data": {
      "image/png": "[encoded data removed]",
      "text/plain": [
       "plot without title"
      ]
     },
     "metadata": {},
     "output_type": "display_data"
    }
   ],
   "source": [
    "plot(deslAirPass$random)"
   ]
  },
  {
   "cell_type": "markdown",
   "metadata": {},
   "source": [
    "Finalmente el proceso realizado para volver una serie de tiempo estacionaria basado en promedios moviles es estimar y quitar las componentes anteriormente descritas quedando $X_t - M_t - S _t = Y_t$, el modelo para la serie estaría determinado por un modelo estacional ARMA(p,q).\n",
    "\n",
    "## Análisis de la serie resultante estacionaria\n",
    "\n",
    "Para observar si la serie $Y_t$ obtenida mediante el proceso de promedios móviles tiene alguna estructura de correlación, ha de observarse su función de autocorrelación simple. Hay que tener en cuenta que mediante el proceso de promedios moviles se generan observaciones faltantes, (datos faltantes) lo cual podra observarse y solucionarse mediante:"
   ]
  },
  {
   "cell_type": "code",
   "execution_count": 10,
   "metadata": {},
   "outputs": [
    {
     "name": "stderr",
     "output_type": "stream",
     "text": [
      "ERROR while rich displaying an object: Error in repr_matrix_generic(obj, \"\\n%s%s\\n\", sprintf(\"|%%s\\n|%s|\\n\", : el argumento formal \"cols\" concuerda con múltiples argumentos especificados\n",
      "\n",
      "Traceback:\n",
      "1. FUN(X[[i]], ...)\n",
      "2. tryCatch(withCallingHandlers({\n",
      " .     if (!mime %in% names(repr::mime2repr)) \n",
      " .         stop(\"No repr_* for mimetype \", mime, \" in repr::mime2repr\")\n",
      " .     rpr <- repr::mime2repr[[mime]](obj)\n",
      " .     if (is.null(rpr)) \n",
      " .         return(NULL)\n",
      " .     prepare_content(is.raw(rpr), rpr)\n",
      " . }, error = error_handler), error = outer_handler)\n",
      "3. tryCatchList(expr, classes, parentenv, handlers)\n",
      "4. tryCatchOne(expr, names, parentenv, handlers[[1L]])\n",
      "5. doTryCatch(return(expr), name, parentenv, handler)\n",
      "6. withCallingHandlers({\n",
      " .     if (!mime %in% names(repr::mime2repr)) \n",
      " .         stop(\"No repr_* for mimetype \", mime, \" in repr::mime2repr\")\n",
      " .     rpr <- repr::mime2repr[[mime]](obj)\n",
      " .     if (is.null(rpr)) \n",
      " .         return(NULL)\n",
      " .     prepare_content(is.raw(rpr), rpr)\n",
      " . }, error = error_handler)\n",
      "7. repr::mime2repr[[mime]](obj)\n",
      "8. repr_markdown.ts(obj)\n",
      "9. repr_ts_generic(obj, repr_markdown.matrix, ...)\n",
      "10. repr_func(m, ..., rows = nrow(m), cols = ncol(m))\n"
     ]
    },
    {
     "data": {
      "text/html": [
       "<table>\n",
       "<thead><tr><th></th><th scope=col>Jan</th><th scope=col>Feb</th><th scope=col>Mar</th><th scope=col>Apr</th><th scope=col>May</th><th scope=col>Jun</th><th scope=col>Jul</th><th scope=col>Aug</th><th scope=col>Sep</th><th scope=col>Oct</th><th scope=col>Nov</th><th scope=col>Dec</th></tr></thead>\n",
       "<tbody>\n",
       "\t<tr><th scope=row>1995</th><td>            </td><td>          NA</td><td>          NA</td><td>          NA</td><td>          NA</td><td>          NA</td><td>          NA</td><td> -15556.2617</td><td> -13429.6963</td><td> -22108.8540</td><td>   6511.7564</td><td>    464.5981</td></tr>\n",
       "\t<tr><th scope=row>1996</th><td>  14490.0564</td><td>   -134.2207</td><td>  -5612.5061</td><td> -24002.2852</td><td>  31905.3335</td><td>  -3317.5727</td><td>  -7526.0144</td><td>   5849.1966</td><td>   7417.1371</td><td>  10861.5627</td><td>  29005.1314</td><td>  -4403.7352</td></tr>\n",
       "\t<tr><th scope=row>1997</th><td> -31103.1102</td><td>  -4993.3457</td><td> -49870.4227</td><td>  14098.7564</td><td>  22637.0835</td><td>   1310.8439</td><td>   9286.8606</td><td>   1613.4466</td><td>  -5517.9879</td><td>   5868.0210</td><td>  11817.4231</td><td>   4425.2648</td></tr>\n",
       "\t<tr><th scope=row>1998</th><td>  -6558.1102</td><td>   7407.9877</td><td>   5521.9106</td><td> -23790.4936</td><td>  12556.9168</td><td>  -1641.9894</td><td> -16851.8894</td><td> -13331.7617</td><td> -13469.4463</td><td>  14049.1460</td><td>  12043.5064</td><td>  14532.6398</td></tr>\n",
       "\t<tr><th scope=row>1999</th><td>    219.2231</td><td> -14994.9707</td><td>  -2504.2977</td><td>  -2686.9936</td><td>  12400.6668</td><td>   6125.9689</td><td>   1847.1106</td><td>  -6506.1367</td><td> -19874.3629</td><td>  -4267.6457</td><td>   7317.6731</td><td>   2113.6398</td></tr>\n",
       "\t<tr><th scope=row>2000</th><td>  12842.2231</td><td>   2592.1127</td><td>  -2011.7144</td><td>  -6305.9936</td><td>  12798.6668</td><td>   9367.4273</td><td>  -8846.3894</td><td>  -5196.2201</td><td> -11823.6546</td><td>   9617.4377</td><td>  25851.2564</td><td>   9077.8898</td></tr>\n",
       "\t<tr><th scope=row>2001</th><td>  -3465.3602</td><td>  -4000.8040</td><td>   2963.1189</td><td> -29241.6602</td><td> -16765.6665</td><td> -26673.3644</td><td>  -3752.9311</td><td>   6657.6133</td><td>   3851.1787</td><td>  31685.9377</td><td>  28006.5064</td><td> -26909.9852</td></tr>\n",
       "\t<tr><th scope=row>2002</th><td>  -5014.7769</td><td>  -6753.1790</td><td> -19114.2144</td><td>  15772.3398</td><td>  27247.8752</td><td>   2527.8023</td><td>  -4794.5977</td><td> -16068.0534</td><td>  -4293.8629</td><td>   1723.2710</td><td>   1069.0481</td><td> -10728.0269</td></tr>\n",
       "\t<tr><th scope=row>2003</th><td>   9955.4314</td><td>   1142.6960</td><td>  15537.1189</td><td>   -805.3269</td><td>  35234.3752</td><td> -11495.9894</td><td> -10295.2227</td><td> -16273.3451</td><td> -10988.9046</td><td> -11480.3123</td><td>  -7763.9519</td><td>  11579.5564</td></tr>\n",
       "\t<tr><th scope=row>2004</th><td> -16661.8602</td><td>   8597.4043</td><td>  22450.2856</td><td>   5669.7564</td><td>  20757.8335</td><td>   9285.5106</td><td>  -9544.8061</td><td> -16697.3034</td><td> -13581.9046</td><td>  -9912.2290</td><td> -15421.4936</td><td>  18986.3481</td></tr>\n",
       "\t<tr><th scope=row>2005</th><td>   8608.5148</td><td>   -289.3873</td><td>   5151.9106</td><td>  50071.6314</td><td>  -3439.9998</td><td> -30562.5727</td><td> -10580.9727</td><td>  -4771.7617</td><td>   9947.6787</td><td>   2755.4793</td><td>   7255.1314</td><td>   2585.0981</td></tr>\n",
       "\t<tr><th scope=row>2006</th><td>  -9320.5269</td><td>   4084.1960</td><td>    268.8689</td><td>   -929.4936</td><td>    413.6668</td><td> -39460.0311</td><td>  -8612.0561</td><td>   1859.2383</td><td>  13527.9287</td><td>  24830.2293</td><td>  14635.5064</td><td>    881.4731</td></tr>\n",
       "\t<tr><th scope=row>2007</th><td>   -558.1102</td><td>    365.7793</td><td>   8754.7023</td><td> -21935.2019</td><td> -24424.4582</td><td>  -5727.7394</td><td>   2324.6523</td><td>   6516.3216</td><td>  15449.1371</td><td>   3420.5627</td><td>   3377.3398</td><td>  -6965.3186</td></tr>\n",
       "\t<tr><th scope=row>2008</th><td>    287.0148</td><td>  -9675.0957</td><td>  17864.9523</td><td>  19071.7148</td><td>   2791.5418</td><td>  10691.1773</td><td>  11477.1106</td><td>  10394.1966</td><td> -62179.9879</td><td>-113273.0207</td><td> -18238.6602</td><td>  39792.8481</td></tr>\n",
       "\t<tr><th scope=row>2009</th><td>  28464.1398</td><td>  20306.9877</td><td>  13154.3273</td><td>  19950.8814</td><td>  12051.5835</td><td>   1060.1356</td><td> -13346.0977</td><td>  -3440.7201</td><td>  -5242.4879</td><td>  13583.7293</td><td>  19104.6731</td><td>  20713.0981</td></tr>\n",
       "\t<tr><th scope=row>2010</th><td>  20552.3898</td><td>  -1318.8873</td><td>   7217.7439</td><td> -24210.0769</td><td> -20649.2082</td><td> -12402.9061</td><td> -25637.7227</td><td>  -4278.3034</td><td>   6364.0537</td><td>  25197.1043</td><td> -44071.0769</td><td> -28329.5269</td></tr>\n",
       "\t<tr><th scope=row>2011</th><td>  29943.6398</td><td>   4006.5710</td><td>   9872.0773</td><td>  -8617.1602</td><td>  24689.5835</td><td>  10467.5523</td><td>   6025.6523</td><td>   8202.7799</td><td>  18001.0954</td><td>  -5808.0207</td><td> -10785.3269</td><td> -41143.3186</td></tr>\n",
       "\t<tr><th scope=row>2012</th><td> -16739.6102</td><td>  13691.6127</td><td>  15696.3689</td><td>  -8793.2019</td><td> -34431.2498</td><td>  44132.9273</td><td>  45278.5273</td><td>  13564.5299</td><td>  27944.0954</td><td> -12831.8540</td><td> -46851.9102</td><td> -22278.3602</td></tr>\n",
       "\t<tr><th scope=row>2013</th><td>  -8481.9852</td><td>  -8030.0957</td><td> -26621.0477</td><td>   4175.2148</td><td> -59089.3748</td><td>  14188.2606</td><td>  25608.3189</td><td>  23687.1966</td><td>  29045.9287</td><td>  27515.4793</td><td>   3596.4648</td><td>   -241.4019</td></tr>\n",
       "\t<tr><th scope=row>2014</th><td> -11404.1519</td><td> -11644.4707</td><td> -12328.1727</td><td>  14484.7981</td><td> -34701.5415</td><td>   5503.8439</td><td>   7510.3189</td><td>  18259.4466</td><td>  16669.4287</td><td>   8203.9793</td><td> -26828.9936</td><td>  15477.2231</td></tr>\n",
       "\t<tr><th scope=row>2015</th><td> -16425.0269</td><td>   -730.8873</td><td>  -6761.0061</td><td>   7652.7981</td><td> -22353.6248</td><td>  16250.7189</td><td>  10060.1523</td><td>   5127.4049</td><td>  11796.1371</td><td>          NA</td><td>          NA</td><td>          NA</td></tr>\n",
       "\t<tr><th scope=row>2016</th><td>          NA</td><td>          NA</td><td>          NA</td><td>            </td><td>            </td><td>            </td><td>            </td><td>            </td><td>            </td><td>            </td><td>            </td><td>            </td></tr>\n",
       "</tbody>\n",
       "</table>\n"
      ],
      "text/latex": [
       "\\begin{tabular}{r|llllllllllll}\n",
       "  & Jan & Feb & Mar & Apr & May & Jun & Jul & Aug & Sep & Oct & Nov & Dec\\\\\n",
       "\\hline\n",
       "\t1995 &              &           NA &           NA &           NA &           NA &           NA &           NA &  -15556.2617 &  -13429.6963 &  -22108.8540 &    6511.7564 &     464.5981\\\\\n",
       "\t1996 &   14490.0564 &    -134.2207 &   -5612.5061 &  -24002.2852 &   31905.3335 &   -3317.5727 &   -7526.0144 &    5849.1966 &    7417.1371 &   10861.5627 &   29005.1314 &   -4403.7352\\\\\n",
       "\t1997 &  -31103.1102 &   -4993.3457 &  -49870.4227 &   14098.7564 &   22637.0835 &    1310.8439 &    9286.8606 &    1613.4466 &   -5517.9879 &    5868.0210 &   11817.4231 &    4425.2648\\\\\n",
       "\t1998 &   -6558.1102 &    7407.9877 &    5521.9106 &  -23790.4936 &   12556.9168 &   -1641.9894 &  -16851.8894 &  -13331.7617 &  -13469.4463 &   14049.1460 &   12043.5064 &   14532.6398\\\\\n",
       "\t1999 &     219.2231 &  -14994.9707 &   -2504.2977 &   -2686.9936 &   12400.6668 &    6125.9689 &    1847.1106 &   -6506.1367 &  -19874.3629 &   -4267.6457 &    7317.6731 &    2113.6398\\\\\n",
       "\t2000 &   12842.2231 &    2592.1127 &   -2011.7144 &   -6305.9936 &   12798.6668 &    9367.4273 &   -8846.3894 &   -5196.2201 &  -11823.6546 &    9617.4377 &   25851.2564 &    9077.8898\\\\\n",
       "\t2001 &   -3465.3602 &   -4000.8040 &    2963.1189 &  -29241.6602 &  -16765.6665 &  -26673.3644 &   -3752.9311 &    6657.6133 &    3851.1787 &   31685.9377 &   28006.5064 &  -26909.9852\\\\\n",
       "\t2002 &   -5014.7769 &   -6753.1790 &  -19114.2144 &   15772.3398 &   27247.8752 &    2527.8023 &   -4794.5977 &  -16068.0534 &   -4293.8629 &    1723.2710 &    1069.0481 &  -10728.0269\\\\\n",
       "\t2003 &    9955.4314 &    1142.6960 &   15537.1189 &    -805.3269 &   35234.3752 &  -11495.9894 &  -10295.2227 &  -16273.3451 &  -10988.9046 &  -11480.3123 &   -7763.9519 &   11579.5564\\\\\n",
       "\t2004 &  -16661.8602 &    8597.4043 &   22450.2856 &    5669.7564 &   20757.8335 &    9285.5106 &   -9544.8061 &  -16697.3034 &  -13581.9046 &   -9912.2290 &  -15421.4936 &   18986.3481\\\\\n",
       "\t2005 &    8608.5148 &    -289.3873 &    5151.9106 &   50071.6314 &   -3439.9998 &  -30562.5727 &  -10580.9727 &   -4771.7617 &    9947.6787 &    2755.4793 &    7255.1314 &    2585.0981\\\\\n",
       "\t2006 &   -9320.5269 &    4084.1960 &     268.8689 &    -929.4936 &     413.6668 &  -39460.0311 &   -8612.0561 &    1859.2383 &   13527.9287 &   24830.2293 &   14635.5064 &     881.4731\\\\\n",
       "\t2007 &    -558.1102 &     365.7793 &    8754.7023 &  -21935.2019 &  -24424.4582 &   -5727.7394 &    2324.6523 &    6516.3216 &   15449.1371 &    3420.5627 &    3377.3398 &   -6965.3186\\\\\n",
       "\t2008 &     287.0148 &   -9675.0957 &   17864.9523 &   19071.7148 &    2791.5418 &   10691.1773 &   11477.1106 &   10394.1966 &  -62179.9879 & -113273.0207 &  -18238.6602 &   39792.8481\\\\\n",
       "\t2009 &   28464.1398 &   20306.9877 &   13154.3273 &   19950.8814 &   12051.5835 &    1060.1356 &  -13346.0977 &   -3440.7201 &   -5242.4879 &   13583.7293 &   19104.6731 &   20713.0981\\\\\n",
       "\t2010 &   20552.3898 &   -1318.8873 &    7217.7439 &  -24210.0769 &  -20649.2082 &  -12402.9061 &  -25637.7227 &   -4278.3034 &    6364.0537 &   25197.1043 &  -44071.0769 &  -28329.5269\\\\\n",
       "\t2011 &   29943.6398 &    4006.5710 &    9872.0773 &   -8617.1602 &   24689.5835 &   10467.5523 &    6025.6523 &    8202.7799 &   18001.0954 &   -5808.0207 &  -10785.3269 &  -41143.3186\\\\\n",
       "\t2012 &  -16739.6102 &   13691.6127 &   15696.3689 &   -8793.2019 &  -34431.2498 &   44132.9273 &   45278.5273 &   13564.5299 &   27944.0954 &  -12831.8540 &  -46851.9102 &  -22278.3602\\\\\n",
       "\t2013 &   -8481.9852 &   -8030.0957 &  -26621.0477 &    4175.2148 &  -59089.3748 &   14188.2606 &   25608.3189 &   23687.1966 &   29045.9287 &   27515.4793 &    3596.4648 &    -241.4019\\\\\n",
       "\t2014 &  -11404.1519 &  -11644.4707 &  -12328.1727 &   14484.7981 &  -34701.5415 &    5503.8439 &    7510.3189 &   18259.4466 &   16669.4287 &    8203.9793 &  -26828.9936 &   15477.2231\\\\\n",
       "\t2015 &  -16425.0269 &    -730.8873 &   -6761.0061 &    7652.7981 &  -22353.6248 &   16250.7189 &   10060.1523 &    5127.4049 &   11796.1371 &           NA &           NA &           NA\\\\\n",
       "\t2016 &           NA &           NA &           NA &              &              &              &              &              &              &              &              &             \\\\\n",
       "\\end{tabular}\n"
      ],
      "text/plain": [
       "     Jan          Feb          Mar          Apr          May         \n",
       "1995                        NA           NA           NA           NA\n",
       "1996   14490.0564    -134.2207   -5612.5061  -24002.2852   31905.3335\n",
       "1997  -31103.1102   -4993.3457  -49870.4227   14098.7564   22637.0835\n",
       "1998   -6558.1102    7407.9877    5521.9106  -23790.4936   12556.9168\n",
       "1999     219.2231  -14994.9707   -2504.2977   -2686.9936   12400.6668\n",
       "2000   12842.2231    2592.1127   -2011.7144   -6305.9936   12798.6668\n",
       "2001   -3465.3602   -4000.8040    2963.1189  -29241.6602  -16765.6665\n",
       "2002   -5014.7769   -6753.1790  -19114.2144   15772.3398   27247.8752\n",
       "2003    9955.4314    1142.6960   15537.1189    -805.3269   35234.3752\n",
       "2004  -16661.8602    8597.4043   22450.2856    5669.7564   20757.8335\n",
       "2005    8608.5148    -289.3873    5151.9106   50071.6314   -3439.9998\n",
       "2006   -9320.5269    4084.1960     268.8689    -929.4936     413.6668\n",
       "2007    -558.1102     365.7793    8754.7023  -21935.2019  -24424.4582\n",
       "2008     287.0148   -9675.0957   17864.9523   19071.7148    2791.5418\n",
       "2009   28464.1398   20306.9877   13154.3273   19950.8814   12051.5835\n",
       "2010   20552.3898   -1318.8873    7217.7439  -24210.0769  -20649.2082\n",
       "2011   29943.6398    4006.5710    9872.0773   -8617.1602   24689.5835\n",
       "2012  -16739.6102   13691.6127   15696.3689   -8793.2019  -34431.2498\n",
       "2013   -8481.9852   -8030.0957  -26621.0477    4175.2148  -59089.3748\n",
       "2014  -11404.1519  -11644.4707  -12328.1727   14484.7981  -34701.5415\n",
       "2015  -16425.0269    -730.8873   -6761.0061    7652.7981  -22353.6248\n",
       "2016           NA           NA           NA                          \n",
       "     Jun          Jul          Aug          Sep          Oct         \n",
       "1995           NA           NA  -15556.2617  -13429.6963  -22108.8540\n",
       "1996   -3317.5727   -7526.0144    5849.1966    7417.1371   10861.5627\n",
       "1997    1310.8439    9286.8606    1613.4466   -5517.9879    5868.0210\n",
       "1998   -1641.9894  -16851.8894  -13331.7617  -13469.4463   14049.1460\n",
       "1999    6125.9689    1847.1106   -6506.1367  -19874.3629   -4267.6457\n",
       "2000    9367.4273   -8846.3894   -5196.2201  -11823.6546    9617.4377\n",
       "2001  -26673.3644   -3752.9311    6657.6133    3851.1787   31685.9377\n",
       "2002    2527.8023   -4794.5977  -16068.0534   -4293.8629    1723.2710\n",
       "2003  -11495.9894  -10295.2227  -16273.3451  -10988.9046  -11480.3123\n",
       "2004    9285.5106   -9544.8061  -16697.3034  -13581.9046   -9912.2290\n",
       "2005  -30562.5727  -10580.9727   -4771.7617    9947.6787    2755.4793\n",
       "2006  -39460.0311   -8612.0561    1859.2383   13527.9287   24830.2293\n",
       "2007   -5727.7394    2324.6523    6516.3216   15449.1371    3420.5627\n",
       "2008   10691.1773   11477.1106   10394.1966  -62179.9879 -113273.0207\n",
       "2009    1060.1356  -13346.0977   -3440.7201   -5242.4879   13583.7293\n",
       "2010  -12402.9061  -25637.7227   -4278.3034    6364.0537   25197.1043\n",
       "2011   10467.5523    6025.6523    8202.7799   18001.0954   -5808.0207\n",
       "2012   44132.9273   45278.5273   13564.5299   27944.0954  -12831.8540\n",
       "2013   14188.2606   25608.3189   23687.1966   29045.9287   27515.4793\n",
       "2014    5503.8439    7510.3189   18259.4466   16669.4287    8203.9793\n",
       "2015   16250.7189   10060.1523    5127.4049   11796.1371           NA\n",
       "2016                                                                 \n",
       "     Nov          Dec         \n",
       "1995    6511.7564     464.5981\n",
       "1996   29005.1314   -4403.7352\n",
       "1997   11817.4231    4425.2648\n",
       "1998   12043.5064   14532.6398\n",
       "1999    7317.6731    2113.6398\n",
       "2000   25851.2564    9077.8898\n",
       "2001   28006.5064  -26909.9852\n",
       "2002    1069.0481  -10728.0269\n",
       "2003   -7763.9519   11579.5564\n",
       "2004  -15421.4936   18986.3481\n",
       "2005    7255.1314    2585.0981\n",
       "2006   14635.5064     881.4731\n",
       "2007    3377.3398   -6965.3186\n",
       "2008  -18238.6602   39792.8481\n",
       "2009   19104.6731   20713.0981\n",
       "2010  -44071.0769  -28329.5269\n",
       "2011  -10785.3269  -41143.3186\n",
       "2012  -46851.9102  -22278.3602\n",
       "2013    3596.4648    -241.4019\n",
       "2014  -26828.9936   15477.2231\n",
       "2015           NA           NA\n",
       "2016                          "
      ]
     },
     "metadata": {},
     "output_type": "display_data"
    },
    {
     "data": {
      "text/html": [
       "254"
      ],
      "text/latex": [
       "254"
      ],
      "text/markdown": [
       "254"
      ],
      "text/plain": [
       "[1] 254"
      ]
     },
     "metadata": {},
     "output_type": "display_data"
    }
   ],
   "source": [
    "deslAirPass$random\n",
    "length(deslAirPass$random)"
   ]
  },
  {
   "cell_type": "code",
   "execution_count": 11,
   "metadata": {},
   "outputs": [
    {
     "data": {
      "image/png": "[encoded data removed]",
      "text/plain": [
       "plot without title"
      ]
     },
     "metadata": {},
     "output_type": "display_data"
    }
   ],
   "source": [
    "residuos<-deslAirPass$random[7:(254-6)]\n",
    "seriesresiduos=ts(residuos,start=c(1995,8),frequency=12)\n",
    "plot(seriesresiduos)"
   ]
  },
  {
   "cell_type": "markdown",
   "metadata": {},
   "source": [
    "La anterior gráfica muestra la serie estacionaria $y_t$ la cual mediante el proceso de promedios móviles son los residuos además de quitarsele los datos faltantes. Por consiguiente se presenta la funcion de autocorrelacion simple para el proceso resultante:"
   ]
  },
  {
   "cell_type": "code",
   "execution_count": 12,
   "metadata": {},
   "outputs": [
    {
     "data": {
      "image/png": "[encoded data removed]",
      "text/plain": [
       "Plot with title \"Series  seriesresiduos\""
      ]
     },
     "metadata": {},
     "output_type": "display_data"
    }
   ],
   "source": [
    "acf(seriesresiduos,ci.type=\"ma\",lag.max=48)"
   ]
  },
  {
   "cell_type": "markdown",
   "metadata": {},
   "source": [
    "\n",
    "En la grafica de la función de autocorrelación simple puede observarse que para los rezagos 1,3,4,5 y 12 la correlacion se sale de las bandas de confianza lo que indicaria que son significativos para el proceso, es decir son diferentes de cero. Finalmente el proceso realizado para volver una serie de tiempo a una estacionaria es buena, el modelo para la serie estaría determinado por un componente de promedios móviles MA(12), para determinar si existe algun componente autorregresivo se observará la siguiente función de autocorrelación parcial"
   ]
  },
  {
   "cell_type": "code",
   "execution_count": 13,
   "metadata": {},
   "outputs": [
    {
     "data": {
      "image/png": "[encoded data removed]",
      "text/plain": [
       "Plot with title \"Series  seriesresiduos\""
      ]
     },
     "metadata": {},
     "output_type": "display_data"
    }
   ],
   "source": [
    "pacf(seriesresiduos,lag.max=48)"
   ]
  },
  {
   "cell_type": "markdown",
   "metadata": {},
   "source": [
    "Al observar pacf se observa que los datos tienen componente autorregresiva puesto que la funcion de autocorrelacion parcial no se va rápidamente para cero (rezagos altos de ellas son significativos). En este orden de ideas el modelo estaría determinado también por un componente autorregresivo AR(15)\n",
    "\n",
    "## Análisis del modelo segúin criterios de información\n",
    "\n",
    "Considerando que los ordenes máximos para los compnentes autorregresivos y promedios móviles son $p=15$ y $q=12$ respectivamente, se procede a ajustar un modelo para cada componente:"
   ]
  },
  {
   "cell_type": "code",
   "execution_count": 14,
   "metadata": {},
   "outputs": [
    {
     "data": {
      "text/plain": [
       "\n",
       "Call:\n",
       "arima(x = seriesresiduos, order = c(15, 0, 0))\n",
       "\n",
       "Coefficients:\n",
       "         ar1      ar2      ar3      ar4      ar5      ar6      ar7      ar8\n",
       "      0.1242  -0.2369  -0.1995  -0.2461  -0.2624  -0.1939  -0.2858  -0.2317\n",
       "s.e.  0.0635   0.0633   0.0641   0.0655   0.0656   0.0673   0.0673   0.0679\n",
       "          ar9     ar10     ar11    ar12     ar13     ar14     ar15  intercept\n",
       "      -0.2072  -0.1147  -0.2374  0.0418  -0.1806  -0.1342  -0.1588    24.1022\n",
       "s.e.   0.0678   0.0685   0.0674  0.0671   0.0660   0.0648   0.0644   299.6027\n",
       "\n",
       "sigma^2 estimated as 256884991:  log likelihood = -2687.63,  aic = 5409.27"
      ]
     },
     "metadata": {},
     "output_type": "display_data"
    },
    {
     "data": {
      "text/plain": [
       "\n",
       "Call:\n",
       "arima(x = seriesresiduos, order = c(0, 0, 12))\n",
       "\n",
       "Coefficients:\n",
       "         ma1      ma2      ma3      ma4      ma5      ma6      ma7      ma8\n",
       "      0.0206  -0.3336  -0.3526  -0.2776  -0.2412  -0.1144  -0.0865  -0.0634\n",
       "s.e.  0.0651   0.0679   0.0729   0.0742   0.0750   0.0807   0.0988   0.0896\n",
       "         ma9    ma10    ma11    ma12  intercept\n",
       "      0.0529  0.1669  0.0221  0.2068    17.2994\n",
       "s.e.  0.0635  0.0849  0.0727  0.0810    16.2290\n",
       "\n",
       "sigma^2 estimated as 236671905:  log likelihood = -2680.43,  aic = 5388.87"
      ]
     },
     "metadata": {},
     "output_type": "display_data"
    }
   ],
   "source": [
    "salidaAR15=arima(seriesresiduos,order=c(15,0,0))\n",
    "salidaMA12=arima(seriesresiduos,order=c(0,0,12))\n",
    "salidaAR15\n",
    "salidaMA12"
   ]
  },
  {
   "cell_type": "markdown",
   "metadata": {},
   "source": [
    "Se puede observar que la varianza del MA(12) es más pequeño que el AR(15), asi como el AIC lo cual sugiere irnos por el MA(12), en este orden de ideaS, se procede a ver la significancia del modelo con el fin de ir ajustando un modelo donde se involucren cada vez menos parametros a estimar, el procedimiento inicia con observar cuales parámetros son significativos:"
   ]
  },
  {
   "cell_type": "code",
   "execution_count": 16,
   "metadata": {},
   "outputs": [],
   "source": [
    "library(lmtest)\n",
    "library(forecast)"
   ]
  },
  {
   "cell_type": "code",
   "execution_count": 17,
   "metadata": {},
   "outputs": [
    {
     "data": {
      "text/plain": [
       "\n",
       "z test of coefficients:\n",
       "\n",
       "           Estimate Std. Error z value  Pr(>|z|)    \n",
       "ma1        0.020649   0.065101  0.3172  0.751107    \n",
       "ma2       -0.333641   0.067850 -4.9173 8.774e-07 ***\n",
       "ma3       -0.352631   0.072882 -4.8384 1.309e-06 ***\n",
       "ma4       -0.277649   0.074155 -3.7441  0.000181 ***\n",
       "ma5       -0.241167   0.075035 -3.2141  0.001309 ** \n",
       "ma6       -0.114417   0.080715 -1.4176  0.156321    \n",
       "ma7       -0.086523   0.098835 -0.8754  0.381337    \n",
       "ma8       -0.063413   0.089637 -0.7074  0.479288    \n",
       "ma9        0.052905   0.063524  0.8328  0.404939    \n",
       "ma10       0.166909   0.084895  1.9661  0.049292 *  \n",
       "ma11       0.022150   0.072729  0.3045  0.760711    \n",
       "ma12       0.206847   0.080979  2.5543  0.010639 *  \n",
       "intercept 17.299383  16.228978  1.0660  0.286443    \n",
       "---\n",
       "Signif. codes:  0 '***' 0.001 '**' 0.01 '*' 0.05 '.' 0.1 ' ' 1\n"
      ]
     },
     "metadata": {},
     "output_type": "display_data"
    }
   ],
   "source": [
    "coeftest(salidaMA12)"
   ]
  },
  {
   "cell_type": "markdown",
   "metadata": {},
   "source": [
    "Se puede observar que el intercepto no es significativo, los que son altamente significativos son $\\theta_2, \\theta_3,\\theta_4,\\theta_5$ hay que ajustar de nuevo el modelo para afirmar que de hecho los demás parámetros no son significativos. Es decir ajustar nuevos modelos donde se involucren cada vez menos parametros.\n",
    "\n",
    "Primero el intercepto no fue significativo, luego se ajusta el modelo sin el intercepto como se muestra en la siguiente salida, la cual especifica los mísmos parámetros significativos:"
   ]
  },
  {
   "cell_type": "code",
   "execution_count": 18,
   "metadata": {},
   "outputs": [
    {
     "data": {
      "text/plain": [
       "\n",
       "z test of coefficients:\n",
       "\n",
       "      Estimate Std. Error z value  Pr(>|z|)    \n",
       "ma1   0.031805   0.065131  0.4883 0.6253192    \n",
       "ma2  -0.322628   0.068440 -4.7140 2.429e-06 ***\n",
       "ma3  -0.345174   0.073210 -4.7148 2.419e-06 ***\n",
       "ma4  -0.274042   0.074288 -3.6889 0.0002252 ***\n",
       "ma5  -0.239078   0.074494 -3.2094 0.0013302 ** \n",
       "ma6  -0.114050   0.080000 -1.4256 0.1539783    \n",
       "ma7  -0.087192   0.098787 -0.8826 0.3774411    \n",
       "ma8  -0.066901   0.089998 -0.7434 0.4572628    \n",
       "ma9   0.048046   0.063040  0.7622 0.4459643    \n",
       "ma10  0.159880   0.083715  1.9098 0.0561573 .  \n",
       "ma11  0.015841   0.071512  0.2215 0.8246864    \n",
       "ma12  0.201061   0.079439  2.5310 0.0113730 *  \n",
       "---\n",
       "Signif. codes:  0 '***' 0.001 '**' 0.01 '*' 0.05 '.' 0.1 ' ' 1\n"
      ]
     },
     "metadata": {},
     "output_type": "display_data"
    }
   ],
   "source": [
    "salidaMA12fixed=Arima(seriesresiduos,order=c(0,0,12),include.mean = TRUE, fixed=c(NA,NA,NA,NA,NA,NA,NA,NA,NA,NA,NA,NA,0),method = c(\"CSS-ML\"))  \n",
    "coeftest(salidaMA12fixed)"
   ]
  },
  {
   "cell_type": "markdown",
   "metadata": {},
   "source": [
    "Luego quitando los parámetros 11 y 12, se obtiene:"
   ]
  },
  {
   "cell_type": "code",
   "execution_count": 19,
   "metadata": {},
   "outputs": [
    {
     "data": {
      "text/plain": [
       "\n",
       "z test of coefficients:\n",
       "\n",
       "      Estimate Std. Error z value  Pr(>|z|)    \n",
       "ma1   0.024707   0.071877  0.3437 0.7310361    \n",
       "ma2  -0.401043   0.070891 -5.6571 1.539e-08 ***\n",
       "ma3  -0.407743   0.071541 -5.6995 1.202e-08 ***\n",
       "ma4  -0.270699   0.089790 -3.0148 0.0025715 ** \n",
       "ma5  -0.183949   0.080886 -2.2742 0.0229547 *  \n",
       "ma6  -0.039359   0.063685 -0.6180 0.5365618    \n",
       "ma7  -0.060359   0.092385 -0.6533 0.5135372    \n",
       "ma8  -0.043242   0.088686 -0.4876 0.6258428    \n",
       "ma9   0.116339   0.058423  1.9913 0.0464446 *  \n",
       "ma10  0.265301   0.079453  3.3391 0.0008406 ***\n",
       "---\n",
       "Signif. codes:  0 '***' 0.001 '**' 0.01 '*' 0.05 '.' 0.1 ' ' 1\n"
      ]
     },
     "metadata": {},
     "output_type": "display_data"
    }
   ],
   "source": [
    "salidaMA12fixed=Arima(seriesresiduos,order=c(0,0,12),include.mean = TRUE, fixed=c(NA,NA,NA,NA,NA,NA,NA,NA,NA,NA,0,0,0),method = c(\"CSS-ML\"))\n",
    "coeftest(salidaMA12fixed)"
   ]
  },
  {
   "cell_type": "markdown",
   "metadata": {},
   "source": [
    "\n",
    "En consecuencia realizando el procedimiento repetidas veces, se obtiene que al quitar parámetros, los $\\theta_2, \\theta_3,\\theta_4,\\theta_5$ siempre son significativos, ver la siguiente entrada:"
   ]
  },
  {
   "cell_type": "code",
   "execution_count": 20,
   "metadata": {},
   "outputs": [
    {
     "data": {
      "text/plain": [
       "\n",
       "z test of coefficients:\n",
       "\n",
       "     Estimate Std. Error z value  Pr(>|z|)    \n",
       "ma2 -0.281732   0.062301 -4.5221 6.124e-06 ***\n",
       "ma3 -0.309285   0.060417 -5.1192 3.068e-07 ***\n",
       "ma4 -0.252743   0.057721 -4.3787 1.194e-05 ***\n",
       "ma5 -0.163752   0.059838 -2.7366  0.006208 ** \n",
       "---\n",
       "Signif. codes:  0 '***' 0.001 '**' 0.01 '*' 0.05 '.' 0.1 ' ' 1\n"
      ]
     },
     "metadata": {},
     "output_type": "display_data"
    }
   ],
   "source": [
    "salidaMA12fixed=Arima(seriesresiduos,order=c(0,0,12),include.mean = TRUE, fixed=c(0,NA,NA,NA,NA,0,0,0,0,0,0,0,0),method = c(\"CSS-ML\"))\n",
    "coeftest(salidaMA12fixed)"
   ]
  },
  {
   "cell_type": "markdown",
   "metadata": {},
   "source": [
    "Por lo tanto el modelo que mejor se ajusta  a los datos es un **MA(5)**, ya obtenido el modelo que se ajusta a las observaciones, por lo tanto el modelo está dado por:\n",
    "\n",
    "$$ X_t= -0.281Z_{t-2}-0.309Z_{t-3}-0.252Z_{t-4}-0.163Z_{t-5} $$"
   ]
  },
  {
   "cell_type": "code",
   "execution_count": 21,
   "metadata": {},
   "outputs": [
    {
     "data": {
      "image/png": "[encoded data removed]",
      "text/plain": [
       "plot without title"
      ]
     },
     "metadata": {},
     "output_type": "display_data"
    }
   ],
   "source": [
    "plot(salidaMA12fixed$fitted) "
   ]
  },
  {
   "cell_type": "markdown",
   "metadata": {},
   "source": [
    "Ahora el objetivo es verificar o chequear si los supuestos del modelo se cumplen.\n",
    "\n",
    "\n",
    "## Validación de supuestos\n",
    "\n",
    "Con base al proceso $\\{X_t\\}\\sim ARMA(p,q)$ el supuesto fundamental propuesto desde el primer momento es  $\\{Z_t\\}\\sim RBG(p,q)$, en consecuencia se verificarán los supuestos para el modelo los cuales están determinados por:\n",
    "\n",
    "  * La presencia de Gaussianidad en el proceso $\\{Z_t\\}$\n",
    "  * No autocorrelación del proceso $\\{Z_t\\}$ \n",
    "  * Varianza constante del proceso $\\{Z_t\\}$ \n",
    "  * La media de $\\{Z_t\\}$ es constante e igual a cero.\n",
    "\n",
    "Como primer paso se observa la función de autocorrelación simple y parcial de los residuales las cuales son presentadas a continuación para observar la no autocorrelación, observandose acf, ninguna de las autocorrelaciones es significativa en ningún rezago."
   ]
  },
  {
   "cell_type": "code",
   "execution_count": 22,
   "metadata": {},
   "outputs": [
    {
     "data": {
      "image/png": "[encoded data removed]",
      "text/plain": [
       "Plot with title \"Series  residuales\""
      ]
     },
     "metadata": {},
     "output_type": "display_data"
    },
    {
     "data": {
      "image/png": "[encoded data removed]",
      "text/plain": [
       "Plot with title \"Series  residuales\""
      ]
     },
     "metadata": {},
     "output_type": "display_data"
    }
   ],
   "source": [
    "residuales=salidaMA12fixed$residuals\n",
    "acf(residuales)\n",
    "pacf(residuales)"
   ]
  },
  {
   "cell_type": "markdown",
   "metadata": {},
   "source": [
    "En cuanto a la función de autocorrelación parcial se puede ver que ningun rezago es significativo, es decir no hay necesidad de especificar ordenes de tipo autorregresivos. Ota forma Para verificar el hecho de la no autocorrelación de los residuales es por medio de la siguiente prueba (aqui son 5 lo parámetros estimados en el modelo)."
   ]
  },
  {
   "cell_type": "code",
   "execution_count": 23,
   "metadata": {},
   "outputs": [
    {
     "data": {
      "text/plain": [
       "\n",
       "\tBox-Ljung test\n",
       "\n",
       "data:  residuales\n",
       "X-squared = 66.992, df = 55.5, p-value = 0.1388\n"
      ]
     },
     "metadata": {},
     "output_type": "display_data"
    }
   ],
   "source": [
    "library(tseries)\n",
    "Box.test(residuales, lag = (length(residuales)/4), type = \"Ljung-Box\", fitdf = 5)"
   ]
  },
  {
   "cell_type": "markdown",
   "metadata": {},
   "source": [
    "Observando el valor p de la anterior prueba $pvalor=0.1388$ se observa que es mas grande que $\\alpha=0.05$ con lo cual no se rechaza la hipótesis nula $H_0:$No autocorrelacion en $\\{Z_t\\}$. En lo que compete a la normalidad, se tiene la prueba de Jarque-Bera la cual arroja un p-valor muy pequeño concluyendose que no existe normalidad en el proceso, sin embargo esto no es un problema en series de tiempo."
   ]
  },
  {
   "cell_type": "code",
   "execution_count": 24,
   "metadata": {},
   "outputs": [
    {
     "data": {
      "text/plain": [
       "\n",
       "\tJarque Bera Test\n",
       "\n",
       "data:  residuales\n",
       "X-squared = 357.34, df = 2, p-value < 2.2e-16\n"
      ]
     },
     "metadata": {},
     "output_type": "display_data"
    }
   ],
   "source": [
    "library(tseries)\n",
    "jarque.bera.test(residuales)"
   ]
  },
  {
   "cell_type": "markdown",
   "metadata": {},
   "source": [
    "## Pronósticos del modelo\n",
    "\n",
    "Para generar los pronósticos del modelo se usará la libreria *Forecast* la cual usa el modelo ajustado (en este caso AR(1)), por consiguiente se presenta los pronósticos para un año *h=12*, cabe aclarar que entre más pasos adelante mayor incertidumbre existirá."
   ]
  },
  {
   "cell_type": "code",
   "execution_count": 25,
   "metadata": {},
   "outputs": [
    {
     "name": "stderr",
     "output_type": "stream",
     "text": [
      "Warning message in predict.Arima(object, n.ahead = h):\n",
      "\"MA part of model is not invertible\""
     ]
    },
    {
     "data": {
      "text/plain": [
       "         Point Forecast     Lo 95    Hi 95\n",
       "Oct 2015      -2252.338 -34583.64 30078.96\n",
       "Nov 2015      -8186.248 -40518.04 24145.54\n",
       "Dec 2015      -5551.884 -39083.46 27979.69\n",
       "Jan 2016      -3780.540 -38726.56 31165.48\n",
       "Feb 2016      -2143.587 -38011.74 33724.57\n",
       "Mar 2016          0.000 -36251.59 36251.59\n",
       "Apr 2016          0.000 -36251.59 36251.59\n",
       "May 2016          0.000 -36251.59 36251.59\n",
       "Jun 2016          0.000 -36251.59 36251.59\n",
       "Jul 2016          0.000 -36251.59 36251.59\n",
       "Aug 2016          0.000 -36251.59 36251.59\n",
       "Sep 2016          0.000 -36251.59 36251.59"
      ]
     },
     "metadata": {},
     "output_type": "display_data"
    }
   ],
   "source": [
    "library(forecast)\n",
    "PronosticosMA12=forecast(salidaMA12fixed,h=12,level=0.95);PronosticosMA12"
   ]
  },
  {
   "cell_type": "markdown",
   "metadata": {},
   "source": [
    "Anteriormente se muestran los pronosticos, asi como los intervalos de predicción, estos también pueden ser vistos en la siguiente gráfica."
   ]
  },
  {
   "cell_type": "code",
   "execution_count": 26,
   "metadata": {},
   "outputs": [
    {
     "data": {
      "image/png": "[encoded data removed]",
      "text/plain": [
       "Plot with title \"Forecasts from ARIMA(0,0,12) with non-zero mean\""
      ]
     },
     "metadata": {},
     "output_type": "display_data"
    }
   ],
   "source": [
    "plot(PronosticosMA12)"
   ]
  },
  {
   "cell_type": "markdown",
   "metadata": {},
   "source": [
    "\n",
    "## Outliers\n",
    "\n",
    "En series de tiempo al quitar un outlier surge un problema y este es debido a que al quitarlo existirá un dato faltante, en este sentido la metodología usada anteriormente no será la indicada, la presencia de outliers puede ser causa de errores de medición o un comportamiento inusual debido a un factor externo, para poder analizar series con con outliers, \n",
    "\n",
    "la presencia de un outlier en series de tiempo puede generar:\n",
    "\n",
    "* Incremento  de la varianza.\n",
    "* Pueden alterar la distribución original de los datos haciendo que no se cumplan ciertos supuestos.\n",
    "* Pueden sesgar o infuenciar los resultados a un camino incorrecto, puesto que los pronosticos pueden ser alterados.\n",
    "\n",
    "Los pasos a seguir para el análisis de series de tiempo con outlier es:\n",
    "\n",
    "* Detectar, en que mosmento del tiempo ocurrió dicho outlier.\n",
    "* Identificar el tipo de outlier.\n",
    "* Modelar conjuntamente los parámetros del modelo ARMA o ARIMA junto con los parámetros asociados a los outliers.\n",
    "\n",
    "Con respecto a la serie de tiempo relativa a la producción de azucar, se puede observar que existe un outlier aditivo, puesto que se presenta cuando una observación tiene un\n",
    "valor muy grande o muy pequeño. en este caso un valor muy pequeño, vease la serie:"
   ]
  },
  {
   "cell_type": "code",
   "execution_count": 27,
   "metadata": {},
   "outputs": [
    {
     "data": {
      "image/png": "[encoded data removed]",
      "text/plain": [
       "plot without title"
      ]
     },
     "metadata": {},
     "output_type": "display_data"
    }
   ],
   "source": [
    "plot(salidaMA12fixed$fitted) "
   ]
  },
  {
   "cell_type": "markdown",
   "metadata": {},
   "source": [
    "Observándose si el modelo ajustado tiene outliers, se genera el siguiente código, mostrándose:\n"
   ]
  },
  {
   "cell_type": "code",
   "execution_count": 32,
   "metadata": {},
   "outputs": [
    {
     "data": {
      "text/plain": [
       "$arcoefs\n",
       "numeric(0)\n",
       "\n",
       "$macoefs\n",
       " [1]  0.0000000 -0.2817317 -0.3092850 -0.2527431 -0.1637525  0.0000000\n",
       " [7]  0.0000000  0.0000000  0.0000000  0.0000000  0.0000000  0.0000000\n",
       "\n",
       "attr(,\"class\")\n",
       "[1] \"ArimaPars\""
      ]
     },
     "metadata": {},
     "output_type": "display_data"
    },
    {
     "data": {
      "text/html": [
       "<table>\n",
       "<thead><tr><th scope=col>type</th><th scope=col>ind</th><th scope=col>coefhat</th><th scope=col>tstat</th></tr></thead>\n",
       "<tbody>\n",
       "</tbody>\n",
       "</table>\n"
      ],
      "text/latex": [
       "\\begin{tabular}{r|llll}\n",
       " type & ind & coefhat & tstat\\\\\n",
       "\\hline\n",
       "\\end{tabular}\n"
      ],
      "text/markdown": [
       "\n",
       "| type | ind | coefhat | tstat |\n",
       "|---|---|---|---|\n",
       "\n"
      ],
      "text/plain": [
       "     type ind coefhat tstat"
      ]
     },
     "metadata": {},
     "output_type": "display_data"
    },
    {
     "data": {
      "image/png": "[encoded data removed]",
      "text/plain": [
       "plot without title"
      ]
     },
     "metadata": {},
     "output_type": "display_data"
    }
   ],
   "source": [
    "library(tsoutliers)\n",
    "require( forecast)\n",
    "#para poder usar la funcion locate.outliers hay que conocer los residuals del modelo ajustado\n",
    "resi= residuals(salidaMA12fixed)\n",
    "plot(resi)\n",
    "coef= coefs2poly(salidaMA12fixed)\n",
    "coef\n",
    "locate.outliers(resi,coef) "
   ]
  },
  {
   "cell_type": "markdown",
   "metadata": {},
   "source": [
    "Finalmente se objetiene un modelo basado en descomposición basada en promedios móviles."
   ]
  },
  {
   "cell_type": "markdown",
   "metadata": {},
   "source": [
    "\n",
    "## Referencias\n",
    "\n",
    "BANREP. _Producción de algunos bienes de la industria (Mensual desde 1995)_, disponible en http://www.banrep.gov.co/es/produccion"
   ]
  }
 ],
 "metadata": {
  "kernelspec": {
   "display_name": "R",
   "language": "R",
   "name": "ir"
  },
  "language_info": {
   "codemirror_mode": "r",
   "file_extension": ".r",
   "mimetype": "text/x-r-source",
   "name": "R",
   "pygments_lexer": "r",
   "version": "3.6.1"
  }
 },
 "nbformat": 4,
 "nbformat_minor": 4
}
