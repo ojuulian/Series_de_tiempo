{
 "cells": [
  {
   "cell_type": "markdown",
   "metadata": {},
   "source": [
    "<h2 align=\"center\">Series de tiempo</h2>\n",
    "<h2 align=\"center\"></h2>\n",
    "\n",
    "Para dar un abordaje al modelamiento de series de tiempo, se propone el siguiente contenido el cual contrasta la teoría y la práctica por medio de scrips en *jupyter notebook* \n",
    "\n",
    "\n",
    "\n",
    "<h3>Autor</h3>\n",
    "\n",
    "1. Oscar Julian Layton Galindo, ojlaytong@unal.edu.co\n",
    "\n",
    "\n",
    "\n",
    "<h3>Lenguaje de Programación </h3>\n",
    "\n",
    "R y Python 3.7"
   ]
  },
  {
   "cell_type": "markdown",
   "metadata": {},
   "source": [
    "<h2 align='center'> Contenido</h2>\n",
    "\n",
    "<h3>  Árbloles de desición para series de tiempo </h3>\n",
    "\n",
    "1. [Py Árboles de desición.](./cuadernos/P_Arboles_para_Series_de_tiempo.ipynb)\n",
    "2. [R Árboles de desición.](./cuadernos/R_arboles_desicion.ipynb)\n",
    "\n",
    "<h3>  Redes neuronales</h3>\n",
    "\n",
    "1. [Py (tensorflow) Red neuronal serie monitoreo de calidad de aire.](./cuadernos/P_mlpDefinitivo.ipynb)\n",
    "\n",
    "\n",
    "<h3> Simulaciones </h3>\n",
    "\n",
    "1. [R Simulacion proceso IID, MA. ARIMA.](./cuadernos/R_simulaciones_proceso_IID-MA-ARIMA.ipynb)\n",
    "2. [R Simulacion caminata aleatoria.](./cuadernos/R_caminata_aleatoria.ipynb)\n",
    "3. [R Simulacion de procesos AR(1) y MA(1).](./cuadernos/R_simulacion_procesos_AR_MA.ipynb)\n",
    "4. [Py Simulacion proceso IID con bandas de confianza.](./cuadernos/P_simulacion_IID_bandas_confianza.ipynb)\n",
    "5. [Py Simulación MA(1) con bandas de confianza.](./cuadernos/P_simulacion_MA1_bandas_confianza.ipynb)\n",
    "6. [Py Simulacion ARMA y bandas de confianza](./cuadernos/P_simulacion_ARMA_bandas_confianza.ipynb)\n",
    "7. [Py Simulacion ARIMA.](./cuadernos/P_SimulacionARIMA.ipynb)\n",
    "\n",
    "\n",
    "\n",
    "\n",
    "\n",
    "<h3>  Métodos de descomposición</h3>\n",
    "\n",
    "1. [Py Métodos de descomposición.](./cuadernos/P_descomposicion.ipynb)\n",
    "2. [Py Descomposición de la serie AUTP.](./cuadernos/P_descomposición_serie_AUTP.ipynb)\n",
    "3. [R Métodos de descomposición en series de tiempo.](./cuadernos/R_Descomposición.ipynb)\n",
    "4. [R Descomposición de la serie de tiempo AUTP.](./cuadernos/R_descomposición_serie_AUTP.ipynb)\n",
    "5. [R Descomposición de la serie de tiempo Airpassengers.](./cuadernos/R_Airpassengers.ipynb)\n",
    "\n",
    "\n",
    "\n",
    "<h3>  Modelamiento</h3>\n",
    "\n",
    "1. [R Análisis de serie producción de azucar en Colombia (diferenciacion promedios móviles).](./cuadernos/R_descomp_promedios_móviles_Serie_Azucar.ipynb)\n",
    "2. [R Análisis de serie producción de azucar en Colombia (diferenciacion suavizamiento exponencial).](./cuadernos/R_descomp_suavizamiento_exponencial_serie_Azucar.ipynb)\n",
    "3. [R Análisis de serie producción de azucar en Colombia (diferenciacion ordianria y estacional).](./cuadernos/R_diferenciacion_ordinaria_estacional_serie_Azucar.ipynb)\n",
    "4. [Py Análisis de serie producción de azucar en Colombia (diferenciacion ordinaria).](./cuadernos/P_Azucar_diferenciacionORDINARIA.ipynb)\n",
    "5. [R Graficas de series de tiempo](./cuadernos/R_creando_series_de_tiempo.ipynb)\n",
    "6. [Py Graficas de series de tiempo](./cuadernos/P_graficando_series.ipynb)\n",
    "7. [Py Pronóstico de serie de tiempo PIB (ARIMA con Rolling)](./cuadernos/P_PIB_pronosticos_rollingSARIMA.ipynb)\n",
    "\n",
    "\n",
    "\n",
    "\n",
    "<h3> Series de tiempo financieras </h3>\n",
    "\n",
    "1. [Py Análisis de serie COLCAP (Modelo ARCH).](./cuadernos/P_COLCAP_modelo_ARCH.ipynb)"
   ]
  },
  {
   "cell_type": "markdown",
   "metadata": {},
   "source": [
    "<h3>Referencias</h3>\n",
    "\n",
    "1.  Brockwell, P. J., Davis, R. A., & Fienberg, S. E. (1991). Time series: theory and methods: theory and methods. Springer Science & Business Media."
   ]
  }
 ],
 "metadata": {
  "kernelspec": {
   "display_name": "Python 3",
   "language": "python",
   "name": "python3"
  },
  "language_info": {
   "codemirror_mode": {
    "name": "ipython",
    "version": 3
   },
   "file_extension": ".py",
   "mimetype": "text/x-python",
   "name": "python",
   "nbconvert_exporter": "python",
   "pygments_lexer": "ipython3",
   "version": "3.7.4"
  }
 },
 "nbformat": 4,
 "nbformat_minor": 4
}
